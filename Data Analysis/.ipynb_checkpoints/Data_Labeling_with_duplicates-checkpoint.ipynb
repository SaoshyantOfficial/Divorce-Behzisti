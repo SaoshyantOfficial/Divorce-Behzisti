{
 "cells": [
  {
   "cell_type": "code",
   "execution_count": null,
   "id": "cc839628",
   "metadata": {},
   "outputs": [],
   "source": [
    "'''In this notebook, we connect the result of each record based on the corresponding national code'''"
   ]
  },
  {
   "cell_type": "markdown",
   "id": "f00a6b7e",
   "metadata": {},
   "source": [
    "# Labeling Data"
   ]
  },
  {
   "cell_type": "code",
   "execution_count": 64,
   "id": "176d362a",
   "metadata": {},
   "outputs": [],
   "source": [
    "import pandas as pd\n",
    "import numpy as np"
   ]
  },
  {
   "cell_type": "markdown",
   "id": "289bf66e",
   "metadata": {},
   "source": [
    "### Concatenate centers data "
   ]
  },
  {
   "cell_type": "code",
   "execution_count": 65,
   "id": "de61222f",
   "metadata": {},
   "outputs": [],
   "source": [
    "# Data Files\n",
    "center1_data = pd.read_csv('../all_data/Center1/Center1_Form_Getter.csv')\n",
    "center2_data = pd.read_csv('../all_data/Center2/Center2_Form_Getter.csv')\n",
    "center3_data = pd.read_csv('../all_data/Center3/Center3_Form_Getter.csv')\n",
    "center4_data = pd.read_csv('../all_data/Center4/Center4_Form_Getter.csv')\n",
    "center5_data = pd.read_csv('../all_data/Center5/Center5_Form_Getter.csv')\n",
    "center6_data = pd.read_csv('../all_data/Center6/Center6_Form_Getter.csv')\n",
    "center7_data = pd.read_csv('../all_data/Center7/Center7_Form_Getter.csv')\n",
    "center8_data = pd.read_csv('../all_data/Center8/Center8_Form_Getter.csv')\n",
    "center9_data = pd.read_csv('../all_data/Center9/Center9_Form_Getter.csv')\n",
    "center10_data = pd.read_csv('../all_data/Center10/Center10_Form_Getter.csv')\n",
    "                           \n",
    "\n",
    "data = pd.concat([ center9_data])"
   ]
  },
  {
   "cell_type": "code",
   "execution_count": 67,
   "id": "f2094f76",
   "metadata": {},
   "outputs": [],
   "source": [
    "# Table(label) Files\n",
    "center1_table = pd.read_csv(\"../all_data/Center1/Center1_Main_Page_Getter.csv\")\n",
    "center2_table = pd.read_csv(\"../all_data/Center2/Center2_Main_Page_Getter.csv\")\n",
    "center3_table = pd.read_csv(\"../all_data/Center3/Center3_Main_Page_Getter.csv\")\n",
    "center4_table = pd.read_csv(\"../all_data/Center4/Center4_Main_Page_Getter.csv\")\n",
    "center5_table = pd.read_csv(\"../all_data/Center5/Center5_Main_Page_Getter.csv\")\n",
    "center6_table = pd.read_csv(\"../all_data/Center6/Center6_Main_Page_Getter.csv\")\n",
    "center7_table = pd.read_csv(\"../all_data/Center7/Center7_Main_Page_Getter.csv\")\n",
    "center8_table = pd.read_csv(\"../all_data/Center8/Center8_Main_Page_Getter.csv\")\n",
    "center9_table = pd.read_csv(\"../all_data/Center9/Center9_Main_Page_Getter.csv\")\n",
    "center10_table = pd.read_csv(\"../all_data/Center10/Center10_Main_Page_Getter.csv\")\n",
    "\n",
    "\n",
    "table = pd.concat([center9_table])"
   ]
  },
  {
   "cell_type": "markdown",
   "id": "5950f3da",
   "metadata": {},
   "source": [
    "## Dropping unnecessary columns in table dataset"
   ]
  },
  {
   "cell_type": "code",
   "execution_count": 69,
   "id": "49f7a600",
   "metadata": {},
   "outputs": [],
   "source": [
    "table.drop([\"نام زوج\", \"نام خانوادگی زوج\", \"تاریخ پذیرش\", \"نام زوجه\", \"نام خانوادگی زوجه\", \"وضعیت\", ],\n",
    "           axis=1, inplace=True)"
   ]
  },
  {
   "cell_type": "markdown",
   "id": "f996f9ff",
   "metadata": {},
   "source": [
    "## Adding label column to the data and filling it"
   ]
  },
  {
   "cell_type": "code",
   "execution_count": 70,
   "id": "474861ee",
   "metadata": {
    "scrolled": false
   },
   "outputs": [],
   "source": [
    "# Adding label column\n",
    "data.insert((data.shape[1]), \"نتیجه\", value=None)"
   ]
  },
  {
   "cell_type": "code",
   "execution_count": 74,
   "id": "02ce9319",
   "metadata": {},
   "outputs": [],
   "source": [
    "# Loop to find people based on wife & husband national ids and get their labels from table data\n",
    "# and add it to the main data\n",
    "\n",
    "table_counter = 0\n",
    "data_counter = 0\n",
    "\n",
    "for zoj_d, zoje_d in zip(data[\"کد ملی زوج\"], data[\"کد ملی زوجه\"]):\n",
    "    table_counter = 0\n",
    "    for zoj_t, zoje_t in zip(table[\"کد ملی زوج\"], table[\"کد ملی زوجه\"]):\n",
    "        \n",
    "        if zoj_d == \" \" or zoje_d == \" \" or zoj_t == \" \" or zoje_t == \" \":\n",
    "            table_counter += 1\n",
    "            continue\n",
    "        \n",
    "        else:\n",
    "            if (zoj_d == (zoj_t)) & (zoje_d == (zoje_t)):            \n",
    "                data.iloc[data_counter, [data.shape[1]-1]] = table.iloc[table_counter, [2]]\n",
    "                data.iloc[data_counter, [153]] = table.iloc[table_counter, [2]]\n",
    "\n",
    "                break\n",
    "        \n",
    "            else:\n",
    "\n",
    "                table_counter += 1\n",
    "    \n",
    "    data_counter += 1"
   ]
  },
  {
   "cell_type": "code",
   "execution_count": 75,
   "id": "5deeb60d",
   "metadata": {},
   "outputs": [],
   "source": [
    "# Resetting indexes\n",
    "data.reset_index(inplace=True, drop=True)"
   ]
  },
  {
   "cell_type": "code",
   "execution_count": 80,
   "id": "15e65518",
   "metadata": {},
   "outputs": [],
   "source": [
    "# Saving data as csv\n",
    "data.to_csv(\"Divorce_Data.csv\")"
   ]
  }
 ],
 "metadata": {
  "kernelspec": {
   "display_name": "Python 3 (ipykernel)",
   "language": "python",
   "name": "python3"
  },
  "language_info": {
   "codemirror_mode": {
    "name": "ipython",
    "version": 3
   },
   "file_extension": ".py",
   "mimetype": "text/x-python",
   "name": "python",
   "nbconvert_exporter": "python",
   "pygments_lexer": "ipython3",
   "version": "3.10.10"
  }
 },
 "nbformat": 4,
 "nbformat_minor": 5
}
