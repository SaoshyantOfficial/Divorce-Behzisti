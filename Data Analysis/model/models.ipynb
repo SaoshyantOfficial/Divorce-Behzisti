{
 "cells": [
  {
   "cell_type": "markdown",
   "id": "e45a9ddf",
   "metadata": {},
   "source": [
    "# Preprocessing"
   ]
  },
  {
   "cell_type": "markdown",
   "id": "431d4f20",
   "metadata": {},
   "source": [
    "## Import necessary libraries"
   ]
  },
  {
   "cell_type": "code",
   "execution_count": 30,
   "id": "73c5036c",
   "metadata": {},
   "outputs": [],
   "source": [
    "import pandas as pd\n",
    "import numpy as np\n",
    "import matplotlib.pyplot as plt\n",
    "import scipy as sp\n",
    "import seaborn as sns\n",
    "from scipy.stats import pearsonr"
   ]
  },
  {
   "cell_type": "code",
   "execution_count": 31,
   "id": "52c95b7d",
   "metadata": {},
   "outputs": [],
   "source": [
    "import  warnings\n",
    "warnings.filterwarnings(\"ignore\")"
   ]
  },
  {
   "cell_type": "markdown",
   "id": "272a2d45",
   "metadata": {},
   "source": [
    "## Read labeled data"
   ]
  },
  {
   "cell_type": "code",
   "execution_count": 32,
   "id": "d9396bff",
   "metadata": {},
   "outputs": [],
   "source": [
    "data = pd.read_csv('Divorce_Data.csv')\n",
    "pd.set_option('display.max_columns', None)"
   ]
  },
  {
   "cell_type": "markdown",
   "id": "a69a132f",
   "metadata": {},
   "source": [
    "## Feature selection"
   ]
  },
  {
   "cell_type": "code",
   "execution_count": 33,
   "id": "e285c640",
   "metadata": {
    "scrolled": true
   },
   "outputs": [
    {
     "name": "stdout",
     "output_type": "stream",
     "text": [
      "Unnamed: 0 : 0\n",
      "تاریخ پذیرش : 1\n",
      "نوع درخواست طلاق : 2\n",
      "ایا برای طلاق یکی از زوجین وکالت نامه رسمی دارد؟ : 3\n",
      "تابعیت زوج : 4\n",
      "تابعیت زوجه : 5\n",
      "کد اقامت زوج : 6\n",
      "کد اقامت زوجه : 7\n",
      "تاریخ تولد زوج : 8\n",
      "تاریخ تولد زوجه  : 9\n",
      "محل تولد زوج  : 10\n",
      "محل تولد زوجه  : 11\n",
      "نوع آدرس زوج : 12\n",
      "نوع آدرس زوجه  : 13\n",
      "نام روستا زوج : 14\n",
      "نام روستا زوجه : 15\n",
      "تحصیلات زوج  : 16\n",
      "تحصیلات زوجه : 17\n",
      "وضعیت محل سکونت زوج : 18\n",
      "وضعیت محل سکونت زوجه : 19\n",
      "بعد خانوار زوج  : 20\n",
      "بعد خانوار زوجه : 21\n",
      "نحوه ارجاع زوج : 22\n",
      "نحوه ارجاع زوجه : 23\n",
      "مراجعه کننده به مرکز : 24\n",
      "وضعیت مسکن زوجین : 25\n",
      "نوع طلاق : 26\n",
      "متقاضی طلاق توافقی : 27\n",
      "تاریخ ازدواج : 28\n",
      "سن زوج هنگام ازدواج : 29\n",
      "سن زوجه هنگام ازدواج : 30\n",
      "تعداد سال زندگی مشترک : 31\n",
      "تعداد ماه زندگی مشترک : 32\n",
      "وضعیت فعلی زندگی مشترک : 33\n",
      "سابقه آشنایی قبلی : 34\n",
      "نوع آشنایی : 35\n",
      "وضعیت مهاجرت زوج : 36\n",
      "وضعیت مهاجرت زوجه : 37\n",
      "نوع ازدواج زوج : 38\n",
      "نوع ازدواج زوجه : 39\n",
      "وضعیت رضایت والدین زوج : 40\n",
      "آیا ادامه دارد : 41\n",
      "وضعیت رضایت والدین زوجه : 42\n",
      "آیا ادامه دارد؟ : 43\n",
      "میزان دخالت فرزندان بر روابط زناشویی زوجین: : 44\n",
      "میزان توافق در امورتربیتی فرزندان : : 45\n",
      "مشکلات و مسائل اجتماعی و جسمانی فرزندان : : 46\n",
      "از زمان شروع مشکل چقدر گذشته است ؟ : 47\n",
      "سابقه متارکه ؟ : 48\n",
      "تعداد روز متارکه : 49\n",
      "تعداد ماه متارکه : 50\n",
      "تعداد ماه متارکه  : 51\n",
      "تعداد دفعات متارکه : 52\n",
      "سابقه طلاق در زوج : 53\n",
      "سابقه طلاق در زوجه : 54\n",
      "سابقه ازدواج قبلی در زوج : 55\n",
      "سابقه ازدواج قبلی در زوجه : 56\n",
      "سابقه طلاق در خانواده زوج : 57\n",
      "سابقه طلاق در خانواده زوجه : 58\n",
      "میزان پایبندی زوج به مسائل مذهبی : 59\n",
      "میزان پایبندی زوجه به مسائل مذهبی : 60\n",
      "آیا از بعد مذهبی زوجین با یکدیگر سنخیت دارند؟ : 61\n",
      "وضعیت شغلی زوج : 62\n",
      "شغل زوج : 63\n",
      "میزان درامد زوج : 64\n",
      "وضعیت شغلی زوجه : 65\n",
      "شغل زوجه : 66\n",
      "میزان درامد زوجه : 67\n",
      "نحوه تامین هزینه های زندگی : 68\n",
      "مسئولیت پذیری مالی زوج : 69\n",
      "مسئولیت پذیری مالی زوجه : 70\n",
      "ایا تا کنون ورشکستگی مالی در خانواده زوج اتفاق افتاده است ؟ : 71\n",
      "ایا تا کنون ورشکستگی مالی در خانواده زوجه اتفاق افتاده است ؟ : 72\n",
      "سابقه اعتیاد زوج  : 73\n",
      "سابقه اعتیاد زوجه : 74\n",
      "نوع اعتیاد زوج : 75\n",
      "نوع اعتیاد زوجه : 76\n",
      "مصرف مشروبات الکلی زوج : 77\n",
      "مصرف مشروبات الکلی زوجه : 78\n",
      "آیا زوج به زوجه علاقه مند است : 79\n",
      "آیا زوجه به زوج علاقه مند است : 80\n",
      "سابقه مراجعه زوج به مرکز مشاوره : 81\n",
      "سابقه مراجعه زوجه به مرکز مشاوره : 82\n",
      "نوع مشکل زوج در هنگام مراجعه به مرکز مشاوره : 83\n",
      "نوع مشکل زوجه در هنگام مراجعه به مرکز مشاوره : 84\n",
      " نظر کارشناس در مراجعه زوج به مرکز مشاوره : 85\n",
      " نظر کارشناس در مراجعه زوجه به مرکز مشاوره : 86\n",
      "آیا زوج خانواده حمایتگری دارد  : 87\n",
      "آیا زوجه خانواده حمایتگری دارد  : 88\n",
      "آیا زوج خانواده مداخله گر دارد : 89\n",
      "آیا زوجه خانواده مداخله گر دارد : 90\n",
      "آیا زوج سابقه بیماری جسمی دارد : 91\n",
      "آیا زوجه سابقه بیماری جسمی دارد : 92\n",
      "نوع بیماری زوج : 93\n",
      "نوع بیماری زوجه : 94\n",
      "اختلال فیزیکی (معلولیت) زوج : 95\n",
      "اختلال فیزیکی (معلولیت) زوجه : 96\n",
      "سابقه بیماری روانی زوج : 97\n",
      "سابقه بیماری روانی زوجه : 98\n",
      "سابقه بستری در بیمارستان اعصاب و روان زوج : 99\n",
      "سابقه بستری در بیمارستان اعصاب و روان زوجه : 100\n",
      "سابقه خشونت های خانگی زوج : 101\n",
      "سابقه خشونت های خانگی زوجه : 102\n",
      "سابقه مراجعه به پزشکی قانونی به دلیل خشونت خانگی، زوج : 103\n",
      "سابقه مراجعه به پزشکی قانونی به دلیل خشونت خانگی، زوجه : 104\n",
      "سابقه مراجعه به مراجع انتظامی به دلیل خشونت، زوج : 105\n",
      "سابقه مراجعه به مراجع انتظامی به دلیل خشونت، زوجه : 106\n",
      "نحوه رابطه جنسی زوج : 107\n",
      "نحوه رابطه جنسی زوجه : 108\n",
      "نوع رابطه جنسی زوج : 109\n",
      "نوع رابطه جنسی زوجه : 110\n",
      "اختلال در مراحل کنش جنسی زوج : 111\n",
      "اختلال در مراحل کنش جنسی زوجه : 112\n",
      "نارضایتی جنسی زوج : 113\n",
      "نارضایتی جنسی زوجه : 114\n",
      "روابط فرا زناشویی، زوج : 115\n",
      "روابط فرا زناشویی، زوجه : 116\n",
      "سابقه اقدام قضایی قبلی در خصوص طلاق زوج : 117\n",
      "تعداد اقدامات زوج : 118\n",
      "تعداد اقدامات زوجه : 119\n",
      "سابقه اقدام قضایی قبلی در خصوص طلاق زوجه : 120\n",
      "سابقه محکومیت زوج : 121\n",
      "نوع محکومیت زوج : 122\n",
      "سابقه محکومیت زوجه : 123\n",
      "نوع محکومیت زوجه : 124\n",
      "تبعات اختلافات خانوادگی برای زوج : 125\n",
      "تبعات اختلافات خانوادگی برای زوجه : 126\n",
      "دلایل طلاق زوج : 127\n",
      "دلایل طلاق زوجه : 128\n",
      "نیاز به بررسی وضعیت روحی زوج : 129\n",
      "نیاز به بررسی وضعیت روحی زوجه : 130\n",
      "نتیجه : 131\n"
     ]
    }
   ],
   "source": [
    "# Choosing unnecessary columns to be dropped \n",
    "counter = 0\n",
    "for col in data.columns: \n",
    "    print(f\"{col} : {counter}\")\n",
    "    counter += 1"
   ]
  },
  {
   "cell_type": "code",
   "execution_count": 34,
   "id": "5d9f4e31",
   "metadata": {},
   "outputs": [],
   "source": [
    "# Unnecessary columns to be removed\n",
    "\n",
    "unnecesary_columns = data.columns[[0, 1, 6, 7, 8, 9, 10, 11, 14, \n",
    "                                   15, 32, 33, 41, 43, 49, 50, 51,\n",
    "                                   63, 64, 66, 67, 83, 84, 85, 86,\n",
    "                                   93, 94, 118, 119, 122, 124\n",
    "                                   ]]\n",
    "\n",
    "data.drop(unnecesary_columns, axis=1, inplace=True)"
   ]
  },
  {
   "cell_type": "markdown",
   "id": "315beed8",
   "metadata": {},
   "source": [
    "## Take care of missing values"
   ]
  },
  {
   "cell_type": "code",
   "execution_count": 35,
   "id": "9ebea686",
   "metadata": {},
   "outputs": [],
   "source": [
    "# Remove columns Wtih more than 9870 NaN values\n",
    "\n",
    "nans = data.isnull().sum()\n",
    "nan_columns = nans[nans>9870].index\n",
    "\n",
    "data.drop(nan_columns, axis=1, inplace=True)"
   ]
  },
  {
   "cell_type": "code",
   "execution_count": 36,
   "id": "db25901d",
   "metadata": {},
   "outputs": [],
   "source": [
    "# Remove rows with NaN target variables\n",
    "\n",
    "nan_targets = data[data[\"نتیجه\"].isna()].index\n",
    "data.drop(nan_targets, axis=0, inplace=True)"
   ]
  },
  {
   "cell_type": "markdown",
   "id": "5bcfe5ce",
   "metadata": {},
   "source": [
    "## Drop all NaN rows"
   ]
  },
  {
   "cell_type": "code",
   "execution_count": 37,
   "id": "da9fa5de",
   "metadata": {},
   "outputs": [],
   "source": [
    "data.dropna(inplace=True)\n",
    "data.reset_index(drop=True, inplace=True)"
   ]
  },
  {
   "cell_type": "code",
   "execution_count": 38,
   "id": "6694a7b8",
   "metadata": {},
   "outputs": [],
   "source": [
    "# Droping undefined targets\n",
    "undefined_targets = data[data[\"نتیجه\"] == \"در جريان\"].index\n",
    "data.drop(undefined_targets, axis=0, inplace=True)\n",
    "data.reset_index(drop=True, inplace=True)"
   ]
  },
  {
   "cell_type": "code",
   "execution_count": 39,
   "id": "75178bb7",
   "metadata": {},
   "outputs": [],
   "source": [
    "# Droping undefined targets\n",
    "undefined_targets2 = data[data[\"نتیجه\"] == \"ساير\"].index\n",
    "data.drop(undefined_targets2, axis=0, inplace=True)\n",
    "data.reset_index(drop=True, inplace=True)"
   ]
  },
  {
   "cell_type": "markdown",
   "id": "157f4b4a",
   "metadata": {},
   "source": [
    "## Encoding catergorical data"
   ]
  },
  {
   "cell_type": "code",
   "execution_count": 40,
   "id": "ce51ad7a",
   "metadata": {
    "scrolled": false
   },
   "outputs": [
    {
     "name": "stdout",
     "output_type": "stream",
     "text": [
      "نوع درخواست طلاق :  3\n",
      "ایا برای طلاق یکی از زوجین وکالت نامه رسمی دارد؟ :  2\n",
      "تابعیت زوج :  1\n",
      "تابعیت زوجه :  1\n",
      "نوع آدرس زوج :  2\n",
      "نوع آدرس زوجه  :  2\n",
      "تحصیلات زوج  :  8\n",
      "تحصیلات زوجه :  8\n",
      "وضعیت محل سکونت زوج :  7\n",
      "وضعیت محل سکونت زوجه :  7\n",
      "نحوه ارجاع زوج :  3\n",
      "نحوه ارجاع زوجه :  3\n",
      "مراجعه کننده به مرکز :  4\n",
      "وضعیت مسکن زوجین :  4\n",
      "نوع طلاق :  3\n",
      "متقاضی طلاق توافقی :  3\n",
      "تاریخ ازدواج :  2453\n",
      "سابقه آشنایی قبلی :  2\n",
      "وضعیت مهاجرت زوج :  3\n",
      "وضعیت مهاجرت زوجه :  3\n",
      "نوع ازدواج زوج :  2\n",
      "نوع ازدواج زوجه :  2\n",
      "وضعیت رضایت والدین زوج :  2\n",
      "وضعیت رضایت والدین زوجه :  2\n",
      "از زمان شروع مشکل چقدر گذشته است ؟ :  4\n",
      "سابقه طلاق در زوج :  2\n",
      "سابقه طلاق در زوجه :  2\n",
      "سابقه ازدواج قبلی در زوج :  2\n",
      "سابقه ازدواج قبلی در زوجه :  2\n",
      "سابقه طلاق در خانواده زوج :  2\n",
      "میزان پایبندی زوج به مسائل مذهبی :  5\n",
      "میزان پایبندی زوجه به مسائل مذهبی :  5\n",
      "آیا از بعد مذهبی زوجین با یکدیگر سنخیت دارند؟ :  3\n",
      "وضعیت شغلی زوج :  6\n",
      "وضعیت شغلی زوجه :  6\n",
      "نحوه تامین هزینه های زندگی :  4\n",
      "مسئولیت پذیری مالی زوج :  2\n",
      "مسئولیت پذیری مالی زوجه :  2\n",
      "ایا تا کنون ورشکستگی مالی در خانواده زوج اتفاق افتاده است ؟ :  2\n",
      "ایا تا کنون ورشکستگی مالی در خانواده زوجه اتفاق افتاده است ؟ :  2\n",
      "سابقه اعتیاد زوج  :  2\n",
      "سابقه اعتیاد زوجه :  2\n",
      "مصرف مشروبات الکلی زوج :  2\n",
      "مصرف مشروبات الکلی زوجه :  2\n",
      "آیا زوجه به زوج علاقه مند است :  2\n",
      "سابقه مراجعه زوج به مرکز مشاوره :  2\n",
      "سابقه مراجعه زوجه به مرکز مشاوره :  2\n",
      "آیا زوج خانواده حمایتگری دارد  :  2\n",
      "آیا زوجه خانواده حمایتگری دارد  :  2\n",
      "آیا زوج خانواده مداخله گر دارد :  2\n",
      "آیا زوجه خانواده مداخله گر دارد :  2\n",
      "آیا زوج سابقه بیماری جسمی دارد :  2\n",
      "آیا زوجه سابقه بیماری جسمی دارد :  2\n",
      "اختلال فیزیکی (معلولیت) زوج :  2\n",
      "اختلال فیزیکی (معلولیت) زوجه :  2\n",
      "سابقه بیماری روانی زوج :  2\n",
      "سابقه بیماری روانی زوجه :  2\n",
      "سابقه بستری در بیمارستان اعصاب و روان زوج :  2\n",
      "سابقه بستری در بیمارستان اعصاب و روان زوجه :  2\n",
      "سابقه مراجعه به پزشکی قانونی به دلیل خشونت خانگی، زوج :  2\n",
      "سابقه مراجعه به پزشکی قانونی به دلیل خشونت خانگی، زوجه :  2\n",
      "سابقه مراجعه به مراجع انتظامی به دلیل خشونت، زوج :  2\n",
      "سابقه مراجعه به مراجع انتظامی به دلیل خشونت، زوجه :  2\n",
      "نحوه رابطه جنسی زوجه :  2\n",
      "نوع رابطه جنسی زوجه :  2\n",
      "اختلال در مراحل کنش جنسی زوجه :  2\n",
      "نارضایتی جنسی زوجه :  2\n",
      "روابط فرا زناشویی، زوج :  2\n",
      "روابط فرا زناشویی، زوجه :  2\n",
      "سابقه اقدام قضایی قبلی در خصوص طلاق زوج :  2\n",
      "سابقه اقدام قضایی قبلی در خصوص طلاق زوجه :  2\n",
      "سابقه محکومیت زوج :  2\n",
      "سابقه محکومیت زوجه :  2\n",
      "دلایل طلاق زوج :  481\n",
      "دلایل طلاق زوجه :  1669\n",
      "نیاز به بررسی وضعیت روحی زوجه :  2\n",
      "نتیجه :  2\n"
     ]
    }
   ],
   "source": [
    "# Observing categorical data uniques\n",
    "for col_name in data:\n",
    "    if data[col_name].dtype == \"O\":\n",
    "        print(f\"{col_name} : \", data[col_name].nunique())\n",
    "    else:\n",
    "        pass"
   ]
  },
  {
   "cell_type": "code",
   "execution_count": 41,
   "id": "9ee81449",
   "metadata": {},
   "outputs": [],
   "source": [
    "# # Encoding target\n",
    "data.replace(\"عدم سازش مشاوره\", 0, inplace=True)\n",
    "data.replace(\"سازش مشاوره\", 1, inplace=True)"
   ]
  },
  {
   "cell_type": "code",
   "execution_count": 42,
   "id": "60d8d2de",
   "metadata": {},
   "outputs": [],
   "source": [
    "# Onehot encoding all the Object type columns\n",
    "\n",
    "for col in data.columns:\n",
    "    if data[col].dtype == 'O':\n",
    "        data = pd.concat([data, pd.get_dummies(data[col], prefix=col)], axis=1)\n",
    "        data = data.drop(col, axis=1)"
   ]
  },
  {
   "cell_type": "markdown",
   "id": "1d8ef5fe",
   "metadata": {},
   "source": [
    "## Balance the Target"
   ]
  },
  {
   "cell_type": "code",
   "execution_count": 43,
   "id": "b3c133df",
   "metadata": {},
   "outputs": [],
   "source": [
    "import random\n",
    "\n",
    "num_rows_sazeh = (data['نتیجه'] == 1).sum()\n",
    "num_rows_nasazaeh = (data['نتیجه'] == 0).sum()\n",
    "\n",
    "# solve the imbalanced target problem \n",
    "rows_to_drop = data[data['نتیجه'] == 0].index.tolist()\n",
    "random.shuffle(rows_to_drop)\n",
    "rows_to_drop = rows_to_drop[:len(rows_to_drop) - num_rows_sazeh]\n",
    "\n",
    "data.drop(rows_to_drop, inplace=True)\n"
   ]
  },
  {
   "cell_type": "code",
   "execution_count": 44,
   "id": "bc13f2dc",
   "metadata": {},
   "outputs": [
    {
     "name": "stdout",
     "output_type": "stream",
     "text": [
      "472\n",
      "472\n"
     ]
    }
   ],
   "source": [
    "print( (data['نتیجه'] == 1).sum())\n",
    "print( (data['نتیجه'] == 0).sum())"
   ]
  },
  {
   "cell_type": "markdown",
   "id": "07d2b6a6",
   "metadata": {},
   "source": [
    "## collecting unseen data from all data"
   ]
  },
  {
   "cell_type": "code",
   "execution_count": 45,
   "id": "e364794a",
   "metadata": {},
   "outputs": [],
   "source": [
    "random_rows = data.sample(n=100)\n",
    "index_values = random_rows.index.values\n",
    "\n",
    "# Create new dataframe with only the randomly selected rows\n",
    "new_data = pd.DataFrame(random_rows)\n",
    "data = data.drop(index_values)"
   ]
  },
  {
   "cell_type": "markdown",
   "id": "b8f52ec4",
   "metadata": {},
   "source": [
    "## Train/Test split"
   ]
  },
  {
   "cell_type": "code",
   "execution_count": 46,
   "id": "92ad149a",
   "metadata": {},
   "outputs": [],
   "source": [
    "from imblearn.over_sampling import SMOTE, ADASYN, SVMSMOTE, BorderlineSMOTE\n",
    "from imblearn.under_sampling import RandomUnderSampler\n",
    "from sklearn.model_selection import StratifiedShuffleSplit, train_test_split"
   ]
  },
  {
   "cell_type": "code",
   "execution_count": 47,
   "id": "6b31c236",
   "metadata": {
    "code_folding": []
   },
   "outputs": [],
   "source": [
    "# Defining x & y variables\n",
    "x = data.drop('نتیجه', axis=1).values\n",
    "y = data[[\"نتیجه\"]].values"
   ]
  },
  {
   "cell_type": "code",
   "execution_count": 48,
   "id": "8c1a6169",
   "metadata": {},
   "outputs": [],
   "source": [
    "x_train, x_test, y_train, y_test = train_test_split(x, y, test_size=0.1, stratify=y )"
   ]
  },
  {
   "cell_type": "markdown",
   "id": "c2a73b12",
   "metadata": {},
   "source": [
    "## Over sampling"
   ]
  },
  {
   "cell_type": "code",
   "execution_count": 49,
   "id": "3045f503",
   "metadata": {
    "code_folding": []
   },
   "outputs": [],
   "source": [
    "# Instantiate the SMOTE class\n",
    "# smote = ADASYN()\n",
    "# Fit the SMOTE class to the training data and oversample the minority class\n",
    "# x_train, y_train = smote.fit_resample(x_train, y_train)"
   ]
  },
  {
   "cell_type": "markdown",
   "id": "f510ccd4",
   "metadata": {},
   "source": [
    "# Processing"
   ]
  },
  {
   "cell_type": "code",
   "execution_count": 50,
   "id": "75af8655",
   "metadata": {},
   "outputs": [],
   "source": [
    "from sklearn.metrics import accuracy_score, classification_report, confusion_matrix"
   ]
  },
  {
   "cell_type": "markdown",
   "id": "f7e5bd53",
   "metadata": {},
   "source": [
    "## Logistic Regression"
   ]
  },
  {
   "cell_type": "code",
   "execution_count": 51,
   "id": "43d13797",
   "metadata": {
    "scrolled": true
   },
   "outputs": [
    {
     "name": "stdout",
     "output_type": "stream",
     "text": [
      "Accuracy :  0.611764705882353\n",
      "\n",
      "              precision    recall  f1-score   support\n",
      "\n",
      "           0       0.61      0.60      0.60        42\n",
      "           1       0.61      0.63      0.62        43\n",
      "\n",
      "    accuracy                           0.61        85\n",
      "   macro avg       0.61      0.61      0.61        85\n",
      "weighted avg       0.61      0.61      0.61        85\n",
      "\n",
      "\n",
      "[[25 17]\n",
      " [16 27]]\n"
     ]
    }
   ],
   "source": [
    "from sklearn.linear_model import LogisticRegression\n",
    "lr = LogisticRegression(class_weight='balanced')\n",
    "\n",
    "lr.fit(x_train, y_train)\n",
    "lr_pred = lr.predict(x_test)\n",
    "print(\"Accuracy : \",  accuracy_score(y_test, lr_pred))\n",
    "print()\n",
    "print(classification_report(y_test, lr_pred))\n",
    "print()\n",
    "print(confusion_matrix(y_test, lr_pred))"
   ]
  },
  {
   "cell_type": "markdown",
   "id": "fe97cc71",
   "metadata": {},
   "source": [
    "## SVM"
   ]
  },
  {
   "cell_type": "code",
   "execution_count": 52,
   "id": "1235511e",
   "metadata": {},
   "outputs": [
    {
     "name": "stdout",
     "output_type": "stream",
     "text": [
      "Accuracy :  0.6705882352941176\n",
      "\n",
      "              precision    recall  f1-score   support\n",
      "\n",
      "           0       0.67      0.67      0.67        42\n",
      "           1       0.67      0.67      0.67        43\n",
      "\n",
      "    accuracy                           0.67        85\n",
      "   macro avg       0.67      0.67      0.67        85\n",
      "weighted avg       0.67      0.67      0.67        85\n",
      "\n",
      "\n",
      "[[28 14]\n",
      " [14 29]]\n"
     ]
    }
   ],
   "source": [
    "from sklearn.svm import SVC\n",
    "svm =SVC (kernel='linear', C=1)\n",
    "svm.fit(x_train, y_train)\n",
    "naive_y_pred = svm.predict(x_test)\n",
    "print(\"Accuracy : \",  accuracy_score(y_test, naive_y_pred))\n",
    "print()\n",
    "print(classification_report(y_test, naive_y_pred))\n",
    "print()\n",
    "print(confusion_matrix(y_test, naive_y_pred))"
   ]
  },
  {
   "cell_type": "markdown",
   "id": "b328ba0e",
   "metadata": {},
   "source": [
    "## Save the models ( vs , lr )"
   ]
  },
  {
   "cell_type": "code",
   "execution_count": 53,
   "id": "640cb604",
   "metadata": {
    "scrolled": true
   },
   "outputs": [],
   "source": [
    "import pickle\n",
    "with open('logistic_model.pkl', 'wb') as f:\n",
    "    pickle.dump(lr, f)"
   ]
  },
  {
   "cell_type": "code",
   "execution_count": 54,
   "id": "4e2c19b1",
   "metadata": {},
   "outputs": [],
   "source": [
    "with open('svm_model.pkl', 'wb') as f:\n",
    "    pickle.dump(svm, f)"
   ]
  },
  {
   "cell_type": "markdown",
   "id": "8a8e7284",
   "metadata": {},
   "source": [
    "## Test the models on unseen data"
   ]
  },
  {
   "cell_type": "code",
   "execution_count": 55,
   "id": "81f6786f",
   "metadata": {},
   "outputs": [],
   "source": [
    "from imblearn.over_sampling import SMOTE, ADASYN, SVMSMOTE, BorderlineSMOTE\n",
    "from imblearn.under_sampling import RandomUnderSampler\n",
    "from sklearn.model_selection import StratifiedShuffleSplit, train_test_split\n",
    "\n",
    "\n",
    "# Defining x & y variables\n",
    "x = new_data.drop('نتیجه', axis=1).values\n",
    "y = new_data[[\"نتیجه\"]].values"
   ]
  },
  {
   "cell_type": "code",
   "execution_count": 56,
   "id": "73b8cbe3",
   "metadata": {},
   "outputs": [
    {
     "name": "stdout",
     "output_type": "stream",
     "text": [
      "              precision    recall  f1-score   support\n",
      "\n",
      "           0       0.70      0.64      0.67        55\n",
      "           1       0.60      0.67      0.63        45\n",
      "\n",
      "    accuracy                           0.65       100\n",
      "   macro avg       0.65      0.65      0.65       100\n",
      "weighted avg       0.66      0.65      0.65       100\n",
      "\n"
     ]
    }
   ],
   "source": [
    "with open('logistic_model.pkl', 'rb') as f:\n",
    "    logistic_model = pickle.load(f)\n",
    "\n",
    "    # logistic_model.fit(x_train, y_train)\n",
    "y_pred = logistic_model.predict(x)\n",
    "\n",
    "print(classification_report(y, y_pred))"
   ]
  },
  {
   "cell_type": "code",
   "execution_count": 57,
   "id": "355d60da",
   "metadata": {},
   "outputs": [
    {
     "name": "stdout",
     "output_type": "stream",
     "text": [
      "              precision    recall  f1-score   support\n",
      "\n",
      "           0       0.65      0.62      0.64        55\n",
      "           1       0.56      0.60      0.58        45\n",
      "\n",
      "    accuracy                           0.61       100\n",
      "   macro avg       0.61      0.61      0.61       100\n",
      "weighted avg       0.61      0.61      0.61       100\n",
      "\n"
     ]
    }
   ],
   "source": [
    "with open('svm_model.pkl', 'rb') as f:\n",
    "    svm_model = pickle.load(f)\n",
    "\n",
    "\n",
    "# logistic_model.fit(x_train, y_train)\n",
    "y_pred = svm_model.predict(x)\n",
    "\n",
    "print(classification_report(y, y_pred))"
   ]
  }
 ],
 "metadata": {
  "kernelspec": {
   "display_name": "Python 3 (ipykernel)",
   "language": "python",
   "name": "python3"
  },
  "language_info": {
   "codemirror_mode": {
    "name": "ipython",
    "version": 3
   },
   "file_extension": ".py",
   "mimetype": "text/x-python",
   "name": "python",
   "nbconvert_exporter": "python",
   "pygments_lexer": "ipython3",
   "version": "3.10.10"
  }
 },
 "nbformat": 4,
 "nbformat_minor": 5
}
